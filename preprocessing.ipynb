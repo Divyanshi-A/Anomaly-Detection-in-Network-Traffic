{
 "cells": [
  {
   "cell_type": "code",
   "execution_count": 5,
   "id": "d408a1db",
   "metadata": {},
   "outputs": [
    {
     "name": "stdout",
     "output_type": "stream",
     "text": [
      "Training set: (3428901, 120), (3428901,)\n",
      "Test set: (1469530, 120), (1469530,)\n"
     ]
    }
   ],
   "source": [
    "import pandas as pd\n",
    "import numpy as np\n",
    "from sklearn.preprocessing import OneHotEncoder, StandardScaler\n",
    "from sklearn.model_selection import train_test_split\n",
    "import joblib\n",
    "\n",
    "# Load data with column names\n",
    "columns = ['duration','protocol_type','service','flag','src_bytes','dst_bytes','land',\n",
    "           'wrong_fragment','urgent','hot','num_failed_logins','logged_in','num_compromised',\n",
    "           'root_shell','su_attempted','num_root','num_file_creations','num_shells',\n",
    "           'num_access_files','num_outbound_cmds','is_host_login','is_guest_login','count',\n",
    "           'srv_count','serror_rate','srv_serror_rate','rerror_rate','srv_rerror_rate',\n",
    "           'same_srv_rate','diff_srv_rate','srv_diff_host_rate','dst_host_count',\n",
    "           'dst_host_srv_count','dst_host_same_srv_rate','dst_host_diff_srv_rate',\n",
    "           'dst_host_same_src_port_rate','dst_host_srv_diff_host_rate','dst_host_serror_rate',\n",
    "           'dst_host_srv_serror_rate','dst_host_rerror_rate','dst_host_srv_rerror_rate','label']\n",
    "\n",
    "df = pd.read_csv('dataset/kddcup.data/kddcup.data', names=columns)\n",
    "\n",
    "# Create binary labels\n",
    "df['is_attack'] = (df['label'] != 'normal.').astype(int)\n",
    "\n",
    "# Drop constant column\n",
    "df.drop('num_outbound_cmds', axis=1, inplace=True)\n",
    "\n",
    "# Split data\n",
    "train_df, test_df = train_test_split(df, test_size=0.3, stratify=df['is_attack'], random_state=42)\n",
    "\n",
    "# Initialize preprocessing objects\n",
    "categorical_cols = ['protocol_type','service','flag']\n",
    "encoder = OneHotEncoder(sparse_output=False, handle_unknown='ignore')\n",
    "scaler = StandardScaler()\n",
    "\n",
    "# Fit preprocessing on training data\n",
    "X_train = train_df.drop(['label','is_attack'], axis=1)\n",
    "encoder.fit(X_train[categorical_cols])\n",
    "X_num = scaler.fit_transform(X_train.drop(categorical_cols, axis=1))\n",
    "X_cat = encoder.transform(X_train[categorical_cols])\n",
    "X_train_processed = np.hstack((X_num, X_cat))\n",
    "y_train = train_df['is_attack'].values\n",
    "\n",
    "# Transform test data with same objects\n",
    "X_test = test_df.drop(['label','is_attack'], axis=1)\n",
    "X_num_test = scaler.transform(X_test.drop(categorical_cols, axis=1))\n",
    "X_cat_test = encoder.transform(X_test[categorical_cols])\n",
    "X_test_processed = np.hstack((X_num_test, X_cat_test))\n",
    "y_test = test_df['is_attack'].values\n",
    "\n",
    "# Verify feature alignment\n",
    "assert X_train_processed.shape[1] == X_test_processed.shape[1], \"Feature count mismatch!\"\n",
    "\n",
    "# Save processed data\n",
    "np.save('X_train.npy', X_train_processed)\n",
    "np.save('y_train.npy', y_train)\n",
    "np.save('X_test.npy', X_test_processed)\n",
    "np.save('y_test.npy', y_test)\n",
    "joblib.dump(encoder, 'encoder.joblib')\n",
    "joblib.dump(scaler, 'scaler.joblib')\n",
    "\n",
    "print(f\"Training set: {X_train_processed.shape}, {y_train.shape}\")\n",
    "print(f\"Test set: {X_test_processed.shape}, {y_test.shape}\")"
   ]
  },
  {
   "cell_type": "code",
   "execution_count": 6,
   "id": "d89f6a54",
   "metadata": {},
   "outputs": [
    {
     "name": "stdout",
     "output_type": "stream",
     "text": [
      "Train features: 40, Test features: 40\n"
     ]
    }
   ],
   "source": [
    "print(f\"Train features: {X_train.shape[1]}, Test features: {X_test.shape[1]}\")\n"
   ]
  }
 ],
 "metadata": {
  "kernelspec": {
   "display_name": "Python 3",
   "language": "python",
   "name": "python3"
  },
  "language_info": {
   "codemirror_mode": {
    "name": "ipython",
    "version": 3
   },
   "file_extension": ".py",
   "mimetype": "text/x-python",
   "name": "python",
   "nbconvert_exporter": "python",
   "pygments_lexer": "ipython3",
   "version": "3.12.0"
  }
 },
 "nbformat": 4,
 "nbformat_minor": 5
}
